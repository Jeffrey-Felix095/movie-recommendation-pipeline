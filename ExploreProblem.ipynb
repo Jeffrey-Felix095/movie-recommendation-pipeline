{
  "cells": [
    {
      "cell_type": "markdown",
      "source": [
        "#Exploración de los datos"
      ],
      "metadata": {
        "id": "_XK-3_xNCHLm"
      },
      "id": "_XK-3_xNCHLm"
    },
    {
      "cell_type": "markdown",
      "source": [
        "Este cuaderno tiene como propósito realizar una exploración preliminar de los datos, integrando las etapas de limpieza, transformación, unión y exportación de archivos. Los procedimientos desarrollados en este cuaderno servirán como prototipo para la posterior implementación de los scripts que compondrán el pipeline de procesamiento del proyecto."
      ],
      "metadata": {
        "id": "3vgF5rUCCOY-"
      },
      "id": "3vgF5rUCCOY-"
    },
    {
      "cell_type": "markdown",
      "id": "c85a28a0",
      "metadata": {
        "id": "c85a28a0"
      },
      "source": [
        "##Configurations"
      ]
    },
    {
      "cell_type": "code",
      "execution_count": null,
      "id": "b7f6441c",
      "metadata": {
        "id": "b7f6441c"
      },
      "outputs": [],
      "source": [
        "from pyspark.sql import SparkSession\n",
        "from pyspark.sql.functions import col, when, sum, regexp_replace, regexp_extract, explode, split, avg, round, count, collect_list\n",
        "from pyspark.sql.types import StructType, StructField, IntegerType, LongType, StringType\n",
        "import pandas as pd"
      ]
    },
    {
      "cell_type": "markdown",
      "source": [
        "Creacion de las sección basica de spark"
      ],
      "metadata": {
        "id": "JIajxCsxC7h5"
      },
      "id": "JIajxCsxC7h5"
    },
    {
      "cell_type": "code",
      "execution_count": null,
      "id": "778b617e",
      "metadata": {
        "id": "778b617e",
        "outputId": "21b7b0e6-61e0-460b-b588-97266b040b59"
      },
      "outputs": [
        {
          "name": "stderr",
          "output_type": "stream",
          "text": [
            "your 131072x1 screen size is bogus. expect trouble\n",
            "25/04/27 17:51:34 WARN Utils: Your hostname, Jeffrey resolves to a loopback address: 127.0.1.1; using 10.255.255.254 instead (on interface lo)\n",
            "25/04/27 17:51:34 WARN Utils: Set SPARK_LOCAL_IP if you need to bind to another address\n",
            "Setting default log level to \"WARN\".\n",
            "To adjust logging level use sc.setLogLevel(newLevel). For SparkR, use setLogLevel(newLevel).\n",
            "25/04/27 17:51:34 WARN NativeCodeLoader: Unable to load native-hadoop library for your platform... using builtin-java classes where applicable\n"
          ]
        }
      ],
      "source": [
        "spark = SparkSession\\\n",
        ".builder\\\n",
        ".appName(\"Movie Lens data\")\\\n",
        ".getOrCreate()"
      ]
    },
    {
      "cell_type": "markdown",
      "source": [
        "##Datos de ratings"
      ],
      "metadata": {
        "id": "mv0C28gyDGwX"
      },
      "id": "mv0C28gyDGwX"
    },
    {
      "cell_type": "markdown",
      "source": [
        "####RATINGS FILE DESCRIPTION"
      ],
      "metadata": {
        "id": "83FestDmD1P3"
      },
      "id": "83FestDmD1P3"
    },
    {
      "cell_type": "markdown",
      "source": [
        "All ratings are contained in the file \"ratings.dat\" and are in the\n",
        "following format:\n",
        "\n",
        "UserID::MovieID::Rating::Timestamp\n",
        "\n",
        "- UserIDs range between 1 and 6040\n",
        "- MovieIDs range between 1 and 3952\n",
        "- Ratings are made on a 5-star scale (whole-star ratings only)\n",
        "- Timestamp is represented in seconds since the epoch as returned by time(2)\n",
        "- Each user has at least 20 ratings"
      ],
      "metadata": {
        "id": "40Pk7-rCDhfh"
      },
      "id": "40Pk7-rCDhfh"
    },
    {
      "cell_type": "markdown",
      "id": "4d4ee071",
      "metadata": {
        "id": "4d4ee071"
      },
      "source": [
        "###Cargar datos de usuarios"
      ]
    },
    {
      "cell_type": "code",
      "execution_count": null,
      "id": "3a6ca501",
      "metadata": {
        "id": "3a6ca501"
      },
      "outputs": [],
      "source": [
        "#definicion del esquema\n",
        "ratings_schema = StructType(\n",
        "    [\n",
        "        StructField(\"user_id\", IntegerType(), True),\n",
        "        StructField(\"movie_id\", IntegerType(), True),\n",
        "        StructField(\"rating\", IntegerType(), True),\n",
        "        StructField(\"timestamp\",LongType(), True )\n",
        "    ]\n",
        ")"
      ]
    },
    {
      "cell_type": "code",
      "execution_count": null,
      "id": "1dc215a4",
      "metadata": {
        "id": "1dc215a4"
      },
      "outputs": [],
      "source": [
        "#leer archivo\n",
        "ratings_df = spark.read.option(\"delimiter\", \"::\").schema(ratings_schema).csv(\"data/raw/ratings.dat\")"
      ]
    },
    {
      "cell_type": "code",
      "execution_count": null,
      "id": "f579d52b",
      "metadata": {
        "id": "f579d52b",
        "outputId": "021c1936-bb2a-4711-d667-6fd09759ae1a"
      },
      "outputs": [
        {
          "name": "stdout",
          "output_type": "stream",
          "text": [
            "root\n",
            " |-- userID: integer (nullable = true)\n",
            " |-- movieID: integer (nullable = true)\n",
            " |-- rating: integer (nullable = true)\n",
            " |-- timestamp: long (nullable = true)\n",
            "\n"
          ]
        }
      ],
      "source": [
        "ratings_df.printSchema()"
      ]
    },
    {
      "cell_type": "code",
      "execution_count": null,
      "id": "caed037a",
      "metadata": {
        "id": "caed037a",
        "outputId": "c30a2eda-b2f0-4abd-89da-24b27026d237"
      },
      "outputs": [
        {
          "name": "stderr",
          "output_type": "stream",
          "text": [
            "                                                                                \r"
          ]
        },
        {
          "name": "stdout",
          "output_type": "stream",
          "text": [
            "+------+-------+------+----------+\n",
            "|userID|movieID|rating| timestamp|\n",
            "+------+-------+------+----------+\n",
            "|  3190|      1|     3| 968650558|\n",
            "|  1124|      1|     5| 974909280|\n",
            "|     9|      1|     5| 978225952|\n",
            "|  1141|      1|     5|1005053594|\n",
            "|  2030|      1|     4| 974734434|\n",
            "+------+-------+------+----------+\n",
            "only showing top 5 rows\n",
            "\n"
          ]
        }
      ],
      "source": [
        "ratings_df.orderBy(\"movie_id\").show(5)"
      ]
    },
    {
      "cell_type": "code",
      "execution_count": null,
      "id": "7fe47256",
      "metadata": {
        "id": "7fe47256",
        "outputId": "60b51d10-5572-4165-f754-0253c7424652"
      },
      "outputs": [
        {
          "name": "stdout",
          "output_type": "stream",
          "text": [
            "+------+-------+------+---------+\n",
            "|userID|movieID|rating|timestamp|\n",
            "+------+-------+------+---------+\n",
            "|     0|      0|     0|        0|\n",
            "+------+-------+------+---------+\n",
            "\n"
          ]
        }
      ],
      "source": [
        "#contar los nulos por cada columna del df\n",
        "ratings_df.select([sum(when(col(c).isNull(), 1).otherwise(0)).alias(c) for c in ratings_df.columns]).show()"
      ]
    },
    {
      "cell_type": "markdown",
      "source": [
        "Verificar estado de los datos"
      ],
      "metadata": {
        "id": "Jepll0TeEY9w"
      },
      "id": "Jepll0TeEY9w"
    },
    {
      "cell_type": "code",
      "execution_count": null,
      "id": "13fcfe30",
      "metadata": {
        "id": "13fcfe30",
        "outputId": "8f4a9d9a-de53-4e95-ebcf-34bda39b248d"
      },
      "outputs": [
        {
          "name": "stdout",
          "output_type": "stream",
          "text": [
            "+------+-------+------+---------+\n",
            "|userID|movieID|rating|timestamp|\n",
            "+------+-------+------+---------+\n",
            "+------+-------+------+---------+\n",
            "\n"
          ]
        }
      ],
      "source": [
        "ratings_df.filter(col(\"rating\")>5).show()"
      ]
    },
    {
      "cell_type": "code",
      "execution_count": null,
      "id": "5a086c44",
      "metadata": {
        "id": "5a086c44",
        "outputId": "fed1ede1-ce29-42e9-8a60-d39c38caaf70"
      },
      "outputs": [
        {
          "name": "stdout",
          "output_type": "stream",
          "text": [
            "+------+-------+------+---------+\n",
            "|userID|movieID|rating|timestamp|\n",
            "+------+-------+------+---------+\n",
            "+------+-------+------+---------+\n",
            "\n"
          ]
        }
      ],
      "source": [
        "ratings_df.filter(col(\"rating\")<1).show()"
      ]
    },
    {
      "cell_type": "markdown",
      "source": [
        "##Datos de peliculas"
      ],
      "metadata": {
        "id": "m5LOK6gMEj-6"
      },
      "id": "m5LOK6gMEj-6"
    },
    {
      "cell_type": "markdown",
      "source": [
        "####MOVIES FILE DESCRIPTION"
      ],
      "metadata": {
        "id": "jXI6siTPEtA6"
      },
      "id": "jXI6siTPEtA6"
    },
    {
      "cell_type": "markdown",
      "source": [
        "Movie information is in the file \"movies.dat\" and is in the following\n",
        "format:\n",
        "\n",
        "MovieID::Title::Genres\n",
        "\n",
        "- Titles are identical to titles provided by the IMDB (including\n",
        "year of release)\n",
        "- Genres are pipe-separated and are selected from the following genres:\n",
        "\n",
        "\t* Action\n",
        "\t* Adventure\n",
        "\t* Animation\n",
        "\t* Children's\n",
        "\t* Comedy\n",
        "\t* Crime\n",
        "\t* Documentary\n",
        "\t* Drama\n",
        "\t* Fantasy\n",
        "\t* Film-Noir\n",
        "\t* Horror\n",
        "\t* Musical\n",
        "\t* Mystery\n",
        "\t* Romance\n",
        "\t* Sci-Fi\n",
        "\t* Thriller\n",
        "\t* War\n",
        "\t* Western\n",
        "\n",
        "- Some MovieIDs do not correspond to a movie due to accidental duplicate\n",
        "entries and/or test entries\n",
        "- Movies are mostly entered by hand, so errors and inconsistencies may exist"
      ],
      "metadata": {
        "id": "gBLMq_s1EmPK"
      },
      "id": "gBLMq_s1EmPK"
    },
    {
      "cell_type": "markdown",
      "id": "6db49141",
      "metadata": {
        "id": "6db49141"
      },
      "source": [
        "###Cargar datos"
      ]
    },
    {
      "cell_type": "code",
      "execution_count": null,
      "id": "aa4e7478",
      "metadata": {
        "id": "aa4e7478"
      },
      "outputs": [],
      "source": [
        "#Definir esquema\n",
        "movie_schema = StructType(\n",
        "    [\n",
        "        StructField(\"movie_id\", IntegerType(), True),\n",
        "        StructField(\"title\", StringType(), True),\n",
        "        StructField(\"genres\", StringType(), True)\n",
        "    ]\n",
        ")"
      ]
    },
    {
      "cell_type": "code",
      "execution_count": null,
      "id": "f5a20f7f",
      "metadata": {
        "id": "f5a20f7f"
      },
      "outputs": [],
      "source": [
        "#Cargar datos\n",
        "movie_df = spark.read.option(\"delimiter\", \"::\").schema(movie_schema).csv(\"data/raw/movies.dat\")"
      ]
    },
    {
      "cell_type": "code",
      "execution_count": null,
      "id": "a1983e3c",
      "metadata": {
        "id": "a1983e3c",
        "outputId": "02f33db4-c514-4831-c1db-b59b37e297d8"
      },
      "outputs": [
        {
          "name": "stdout",
          "output_type": "stream",
          "text": [
            "root\n",
            " |-- movieID: integer (nullable = true)\n",
            " |-- title: string (nullable = true)\n",
            " |-- genres: string (nullable = false)\n",
            " |-- year: string (nullable = true)\n",
            "\n"
          ]
        }
      ],
      "source": [
        "movie_df.printSchema()"
      ]
    },
    {
      "cell_type": "code",
      "execution_count": null,
      "id": "c6b762e9",
      "metadata": {
        "id": "c6b762e9",
        "outputId": "087d7fc2-726d-4f2b-cc82-1ecf5713802c"
      },
      "outputs": [
        {
          "name": "stdout",
          "output_type": "stream",
          "text": [
            "+-------+--------------------+--------------------+\n",
            "|movieID|               title|              genres|\n",
            "+-------+--------------------+--------------------+\n",
            "|      1|    Toy Story (1995)|Animation|Childre...|\n",
            "|      2|      Jumanji (1995)|Adventure|Childre...|\n",
            "|      3|Grumpier Old Men ...|      Comedy|Romance|\n",
            "|      4|Waiting to Exhale...|        Comedy|Drama|\n",
            "|      5|Father of the Bri...|              Comedy|\n",
            "+-------+--------------------+--------------------+\n",
            "only showing top 5 rows\n",
            "\n"
          ]
        }
      ],
      "source": [
        "movie_df.show(5)"
      ]
    },
    {
      "cell_type": "markdown",
      "source": [
        "Transformaciones"
      ],
      "metadata": {
        "id": "GScUqkeQE6DV"
      },
      "id": "GScUqkeQE6DV"
    },
    {
      "cell_type": "code",
      "execution_count": null,
      "id": "ab6ceccf",
      "metadata": {
        "id": "ab6ceccf"
      },
      "outputs": [],
      "source": [
        "#Separar años de los nombres de las peliculas\n",
        "movie_df = movie_df.withColumn(\"year\", regexp_extract(\"title\",  r\"\\((\\d{4})\\)\",1))\n",
        "movie_df = movie_df.withColumn(\"title\", regexp_replace(\"title\", r\"\\s*\\(\\d{4}\\)\",\"\"))"
      ]
    },
    {
      "cell_type": "code",
      "execution_count": null,
      "id": "5c3a9601",
      "metadata": {
        "id": "5c3a9601",
        "outputId": "cabd9e07-d10f-4f4c-c00d-56b211f7c4ce"
      },
      "outputs": [
        {
          "name": "stdout",
          "output_type": "stream",
          "text": [
            "+-------+--------------------+--------------------+----+\n",
            "|movieID|               title|              genres|year|\n",
            "+-------+--------------------+--------------------+----+\n",
            "|      1|           Toy Story|Animation|Childre...|1995|\n",
            "|      2|             Jumanji|Adventure|Childre...|1995|\n",
            "|      3|    Grumpier Old Men|      Comedy|Romance|1995|\n",
            "|      4|   Waiting to Exhale|        Comedy|Drama|1995|\n",
            "|      5|Father of the Bri...|              Comedy|1995|\n",
            "+-------+--------------------+--------------------+----+\n",
            "only showing top 5 rows\n",
            "\n"
          ]
        }
      ],
      "source": [
        "movie_df.show(5)"
      ]
    },
    {
      "cell_type": "code",
      "execution_count": null,
      "id": "724ebe12",
      "metadata": {
        "id": "724ebe12",
        "outputId": "4278983e-3782-4e59-db18-5a514719f8df"
      },
      "outputs": [
        {
          "name": "stdout",
          "output_type": "stream",
          "text": [
            "+-------+---------+----------+----+\n",
            "|movieID|    title|    genres|year|\n",
            "+-------+---------+----------+----+\n",
            "|      1|Toy Story| Animation|1995|\n",
            "|      1|Toy Story|Children's|1995|\n",
            "|      1|Toy Story|    Comedy|1995|\n",
            "|      2|  Jumanji| Adventure|1995|\n",
            "|      2|  Jumanji|Children's|1995|\n",
            "+-------+---------+----------+----+\n",
            "only showing top 5 rows\n",
            "\n"
          ]
        }
      ],
      "source": [
        "#Normalizar los generos de las peliculas\n",
        "movie_df = movie_df.withColumn(\"genres\", explode(split(\"genres\",r\"\\|\")))\n",
        "movie_df.show(5)"
      ]
    },
    {
      "cell_type": "markdown",
      "source": [
        "##Datos de usuarios"
      ],
      "metadata": {
        "id": "Ri1u64vAFxWP"
      },
      "id": "Ri1u64vAFxWP"
    },
    {
      "cell_type": "markdown",
      "source": [
        "###USERS FILE DESCRIPTION"
      ],
      "metadata": {
        "id": "cwbGKbgIF8lK"
      },
      "id": "cwbGKbgIF8lK"
    },
    {
      "cell_type": "markdown",
      "source": [
        "User information is in the file \"users.dat\" and is in the following\n",
        "format:\n",
        "\n",
        "UserID::Gender::Age::Occupation::Zip-code\n",
        "\n",
        "All demographic information is provided voluntarily by the users and is\n",
        "not checked for accuracy.  Only users who have provided some demographic\n",
        "information are included in this data set.\n",
        "\n",
        "- Gender is denoted by a \"M\" for male and \"F\" for female\n",
        "- Age is chosen from the following ranges:\n",
        "\n",
        "\t*  1:  \"Under 18\"\n",
        "\t* 18:  \"18-24\"\n",
        "\t* 25:  \"25-34\"\n",
        "\t* 35:  \"35-44\"\n",
        "\t* 45:  \"45-49\"\n",
        "\t* 50:  \"50-55\"\n",
        "\t* 56:  \"56+\"\n",
        "\n",
        "- Occupation is chosen from the following choices:\n",
        "\n",
        "\t*  0:  \"other\" or not specified\n",
        "\t*  1:  \"academic/educator\"\n",
        "\t*  2:  \"artist\"\n",
        "\t*  3:  \"clerical/admin\"\n",
        "\t*  4:  \"college/grad student\"\n",
        "\t*  5:  \"customer service\"\n",
        "\t*  6:  \"doctor/health care\"\n",
        "\t*  7:  \"executive/managerial\"\n",
        "\t*  8:  \"farmer\"\n",
        "\t*  9:  \"homemaker\"\n",
        "\t* 10:  \"K-12 student\"\n",
        "\t* 11:  \"lawyer\"\n",
        "\t* 12:  \"programmer\"\n",
        "\t* 13:  \"retired\"\n",
        "\t* 14:  \"sales/marketing\"\n",
        "\t* 15:  \"scientist\"\n",
        "\t* 16:  \"self-employed\"\n",
        "\t* 17:  \"technician/engineer\"\n",
        "\t* 18:  \"tradesman/craftsman\"\n",
        "\t* 19:  \"unemployed\"\n",
        "\t* 20:  \"writer\""
      ],
      "metadata": {
        "id": "EgIGF0XjF8lL"
      },
      "id": "EgIGF0XjF8lL"
    },
    {
      "cell_type": "markdown",
      "id": "3e3d5d7f",
      "metadata": {
        "id": "3e3d5d7f"
      },
      "source": [
        "###Cargar datos de usuario"
      ]
    },
    {
      "cell_type": "code",
      "execution_count": null,
      "id": "59eb9cb0",
      "metadata": {
        "id": "59eb9cb0"
      },
      "outputs": [],
      "source": [
        "#Definir esquema\n",
        "user_schema = StructType(\n",
        "    [\n",
        "        StructField(\"user_id\", IntegerType(), True),\n",
        "        StructField(\"gender\", StringType(), True),\n",
        "        StructField(\"age\", IntegerType(), True),\n",
        "        StructField(\"ocuppation\", IntegerType(), True),\n",
        "        StructField(\"zipCode\", IntegerType(), True)\n",
        "    ]\n",
        ")"
      ]
    },
    {
      "cell_type": "code",
      "execution_count": null,
      "id": "6ab379b7",
      "metadata": {
        "id": "6ab379b7"
      },
      "outputs": [],
      "source": [
        "#Cargar datos\n",
        "user_df = spark.read.option(\"delimiter\", \"::\").schema(user_schema).csv(\"data/raw/users.dat\")"
      ]
    },
    {
      "cell_type": "code",
      "execution_count": null,
      "id": "9e548541",
      "metadata": {
        "id": "9e548541",
        "outputId": "d95b23d9-2f64-42cb-b6c6-a5f908089b74"
      },
      "outputs": [
        {
          "name": "stdout",
          "output_type": "stream",
          "text": [
            "root\n",
            " |-- userID: integer (nullable = true)\n",
            " |-- gender: string (nullable = true)\n",
            " |-- age: integer (nullable = true)\n",
            " |-- ocuppation: integer (nullable = true)\n",
            " |-- zipCode: integer (nullable = true)\n",
            "\n"
          ]
        }
      ],
      "source": [
        "user_df.printSchema()"
      ]
    },
    {
      "cell_type": "code",
      "execution_count": null,
      "id": "a78006c3",
      "metadata": {
        "id": "a78006c3",
        "outputId": "5691ae7b-b534-4f03-f7fc-8aa46b149d2a"
      },
      "outputs": [
        {
          "name": "stdout",
          "output_type": "stream",
          "text": [
            "+------+------+---+----------+-------+\n",
            "|userID|gender|age|ocuppation|zipCode|\n",
            "+------+------+---+----------+-------+\n",
            "|     0|     0|  0|         0|     66|\n",
            "+------+------+---+----------+-------+\n",
            "\n"
          ]
        }
      ],
      "source": [
        "#contar nulos por columna\n",
        "user_df.select([sum(when(col(c).isNull(), 1).otherwise(0)).alias(c) for c in user_df.columns]).show()"
      ]
    },
    {
      "cell_type": "code",
      "execution_count": null,
      "id": "e8ae313f",
      "metadata": {
        "id": "e8ae313f",
        "outputId": "f36b28c7-4955-499d-cdac-aeead45ee2f6"
      },
      "outputs": [
        {
          "name": "stdout",
          "output_type": "stream",
          "text": [
            "+------+------+---+----------+-------+-----+\n",
            "|userID|gender|age|ocuppation|zipCode|count|\n",
            "+------+------+---+----------+-------+-----+\n",
            "+------+------+---+----------+-------+-----+\n",
            "\n"
          ]
        }
      ],
      "source": [
        "#Duplicades\n",
        "user_df.groupBy(user_df.columns).count().filter(\"count > 1\").show()"
      ]
    },
    {
      "cell_type": "markdown",
      "id": "74e7e9be",
      "metadata": {
        "id": "74e7e9be"
      },
      "source": [
        "###Juntar información\n",
        "\n",
        "Se unen ratings y movies para futuras consultas"
      ]
    },
    {
      "cell_type": "code",
      "execution_count": null,
      "id": "bc482223",
      "metadata": {
        "id": "bc482223"
      },
      "outputs": [],
      "source": [
        "complete_df = movie_df.join(\n",
        "    ratings_df,\n",
        "    on=\"movie_id\",\n",
        "    how=\"left\"\n",
        ")"
      ]
    },
    {
      "cell_type": "code",
      "execution_count": null,
      "id": "4a999a79",
      "metadata": {
        "id": "4a999a79",
        "outputId": "02d674fa-d3f6-47a4-d637-224539b1ff24"
      },
      "outputs": [
        {
          "data": {
            "text/plain": [
              "2102031"
            ]
          },
          "execution_count": 23,
          "metadata": {},
          "output_type": "execute_result"
        }
      ],
      "source": [
        "complete_df.count()"
      ]
    },
    {
      "cell_type": "code",
      "execution_count": null,
      "id": "03f86b21",
      "metadata": {
        "id": "03f86b21",
        "outputId": "16655083-ec56-4c4b-ecad-cbc45bfd7c75"
      },
      "outputs": [
        {
          "name": "stdout",
          "output_type": "stream",
          "text": [
            "+-------+---------+---------+----+------+------+---------+\n",
            "|movieID|    title|   genres|year|userID|rating|timestamp|\n",
            "+-------+---------+---------+----+------+------+---------+\n",
            "|      1|Toy Story|Animation|1995|     1|     5|978824268|\n",
            "|      1|Toy Story|Animation|1995|     6|     4|978237008|\n",
            "|      1|Toy Story|Animation|1995|     8|     4|978233496|\n",
            "|      1|Toy Story|Animation|1995|     9|     5|978225952|\n",
            "|      1|Toy Story|Animation|1995|    10|     5|978226474|\n",
            "+-------+---------+---------+----+------+------+---------+\n",
            "only showing top 5 rows\n",
            "\n"
          ]
        }
      ],
      "source": [
        "complete_df.show(5)"
      ]
    },
    {
      "cell_type": "markdown",
      "id": "63483fdd",
      "metadata": {
        "id": "63483fdd"
      },
      "source": [
        "###Average of rating for each movie\n",
        "\n",
        "Se calcula el promedio del rating de cada pelicula"
      ]
    },
    {
      "cell_type": "code",
      "execution_count": null,
      "id": "8c54c9bb",
      "metadata": {
        "id": "8c54c9bb",
        "outputId": "dc2af4ef-de2c-4ede-dc89-bbfd4a8c67a1"
      },
      "outputs": [
        {
          "name": "stdout",
          "output_type": "stream",
          "text": [
            "+-------+--------------------+--------------+\n",
            "|movieID|               title|rating Average|\n",
            "+-------+--------------------+--------------+\n",
            "|     12|Dracula: Dead and...|           2.0|\n",
            "|     22|             Copycat|           3.0|\n",
            "|     26|             Othello|           4.0|\n",
            "|     27|        Now and Then|           3.0|\n",
            "|     28|          Persuasion|           4.0|\n",
            "+-------+--------------------+--------------+\n",
            "only showing top 5 rows\n",
            "\n"
          ]
        }
      ],
      "source": [
        "ranting_prom_df = complete_df.groupBy(\"movie_id\", \"title\").agg(\n",
        "    round(avg(\"rating\")).alias(\"rating_Average\")\n",
        "    )\n",
        "ranting_prom_df.show(5)"
      ]
    },
    {
      "cell_type": "markdown",
      "id": "5e19f3d5",
      "metadata": {
        "id": "5e19f3d5"
      },
      "source": [
        "###Popularity of each genre\n",
        "\n",
        "Se busca el genero más popular en base al promedio de apariciones por pelicula"
      ]
    },
    {
      "cell_type": "code",
      "execution_count": null,
      "id": "0038aa55",
      "metadata": {
        "id": "0038aa55",
        "outputId": "fb033a84-0efa-4abc-a166-7246891960ce"
      },
      "outputs": [
        {
          "name": "stdout",
          "output_type": "stream",
          "text": [
            "+---------+------------+-----------------+\n",
            "|   genres|total movies|average for genre|\n",
            "+---------+------------+-----------------+\n",
            "|    Crime|       79551|             3.71|\n",
            "|  Romance|      147535|             3.61|\n",
            "| Thriller|      189687|             3.57|\n",
            "|Adventure|      133955|             3.48|\n",
            "|    Drama|      354639|             3.77|\n",
            "+---------+------------+-----------------+\n",
            "only showing top 5 rows\n",
            "\n"
          ]
        }
      ],
      "source": [
        "genre_popularity_df = complete_df.groupBy(\"genres\").agg(\n",
        "    count(\"genres\").alias(\"total_movies\"),\n",
        "    round(avg(\"rating\"),2).alias(\"average_for_genre\")\n",
        ")\n",
        "genre_popularity_df.show(5)"
      ]
    },
    {
      "cell_type": "markdown",
      "id": "6076205d",
      "metadata": {
        "id": "6076205d"
      },
      "source": [
        "##Basic machine learning model\n",
        "\n"
      ]
    },
    {
      "cell_type": "markdown",
      "source": [
        "\n",
        "\n",
        "Flujo del proceso:\n",
        "Preparación de los datos:\n",
        "Se parte de un conjunto de calificaciones de usuarios a películas (ratings_df) que se divide en dos subconjuntos: entrenamiento (80%) y validación (20%).\n",
        "\n",
        "Definición y entrenamiento del modelo:\n",
        "Se configura un modelo ALS especificando las columnas de usuario, ítem (película) y calificación, además de manejar valores nulos en predicciones mediante la estrategia coldStartStrategy=\"drop\". También se indica que se trata de datos explícitos (implicitPrefs=False).\n",
        "\n",
        "Búsqueda de hiperparámetros:\n",
        "Se evalúan distintas combinaciones de hiperparámetros (rank y regParam) para encontrar el mejor modelo posible. Para cada combinación:\n",
        "\n",
        "Se entrena el modelo ALS.\n",
        "\n",
        "Se realizan predicciones sobre el conjunto de validación.\n",
        "\n",
        "Se calcula el error cuadrático medio (RMSE) para medir la calidad del modelo.\n",
        "\n",
        "Seguimiento de experimentos con MLflow:\n",
        "Cada experimento de entrenamiento se registra en MLflow, guardando los parámetros utilizados y las métricas de rendimiento (RMSE). El mejor modelo encontrado (el de menor RMSE) también se guarda en MLflow como artefacto.\n",
        "\n",
        "Generación de recomendaciones:\n",
        "Una vez entrenado el mejor modelo, se generan las 10 mejores recomendaciones de películas para cada usuario. Para facilitar su manipulación y análisis posterior:\n",
        "\n",
        "Se expande la lista de recomendaciones (explode).\n",
        "\n",
        "Se agrupan las recomendaciones por usuario.\n",
        "\n",
        "Exportación de resultados:\n",
        "Finalmente, las recomendaciones generadas se pueden guardar en formato Parquet o en cualquier otro formato compatible para su uso en los siguientes pasos del proyecto."
      ],
      "metadata": {
        "id": "Coi_Ret0JoqC"
      },
      "id": "Coi_Ret0JoqC"
    },
    {
      "cell_type": "code",
      "execution_count": null,
      "id": "53b6f042",
      "metadata": {
        "id": "53b6f042",
        "outputId": "396129d4-8a86-4876-d9a4-7a5958f6f635"
      },
      "outputs": [
        {
          "name": "stdout",
          "output_type": "stream",
          "text": [
            "Entrenando modelo con parámetros: {'rank': 10, 'regParam': 0.01}\n"
          ]
        },
        {
          "name": "stderr",
          "output_type": "stream",
          "text": [
            "25/04/25 17:30:03 WARN InstanceBuilder: Failed to load implementation from:dev.ludovic.netlib.blas.JNIBLAS\n",
            "25/04/25 17:30:03 WARN InstanceBuilder: Failed to load implementation from:dev.ludovic.netlib.blas.VectorBLAS\n",
            "25/04/25 17:30:03 WARN InstanceBuilder: Failed to load implementation from:dev.ludovic.netlib.lapack.JNILAPACK\n",
            "                                                                                \r"
          ]
        },
        {
          "name": "stdout",
          "output_type": "stream",
          "text": [
            "RMSE para los parámetros {'rank': 10, 'regParam': 0.01}: 0.8907285925129635\n",
            "Entrenando modelo con parámetros: {'rank': 10, 'regParam': 0.1}\n",
            "RMSE para los parámetros {'rank': 10, 'regParam': 0.1}: 0.8669024597766961\n",
            "Entrenando modelo con parámetros: {'rank': 15, 'regParam': 0.01}\n",
            "RMSE para los parámetros {'rank': 15, 'regParam': 0.01}: 0.9180240177456261\n",
            "Entrenando modelo con parámetros: {'rank': 15, 'regParam': 0.1}\n",
            "RMSE para los parámetros {'rank': 15, 'regParam': 0.1}: 0.8671424760196154\n",
            "\n",
            "Mejor RMSE encontrado: 0.8669024597766961\n"
          ]
        },
        {
          "name": "stderr",
          "output_type": "stream",
          "text": [
            "/home/jfelix/MovieLens/movieenv/lib/python3.12/site-packages/mlflow/types/utils.py:452: UserWarning: Hint: Inferred schema contains integer column(s). Integer columns in Python cannot represent missing values. If your input data contains missing values at inference time, it will be encoded as floats and will cause a schema enforcement error. The best way to avoid this problem is to infer the model schema based on a realistic data sample (training dataset) that includes missing values. Alternatively, you can declare integer columns as doubles (float64) whenever these columns may have missing values. See `Handling Integers With Missing Values <https://www.mlflow.org/docs/latest/models.html#handling-integers-with-missing-values>`_ for more details.\n",
            "  warnings.warn(\n",
            "25/04/25 17:30:16 WARN MemoryManager: Total allocation exceeds 95.00% (1,020,054,720 bytes) of heap memory\n",
            "Scaling row group sizes to 95.00% for 8 writers\n",
            "25/04/25 17:30:16 WARN MemoryManager: Total allocation exceeds 95.00% (1,020,054,720 bytes) of heap memory\n",
            "Scaling row group sizes to 84.44% for 9 writers\n",
            "25/04/25 17:30:16 WARN MemoryManager: Total allocation exceeds 95.00% (1,020,054,720 bytes) of heap memory\n",
            "Scaling row group sizes to 76.00% for 10 writers\n",
            "25/04/25 17:30:16 WARN MemoryManager: Total allocation exceeds 95.00% (1,020,054,720 bytes) of heap memory\n",
            "Scaling row group sizes to 84.44% for 9 writers\n",
            "25/04/25 17:30:16 WARN MemoryManager: Total allocation exceeds 95.00% (1,020,054,720 bytes) of heap memory\n",
            "Scaling row group sizes to 95.00% for 8 writers\n",
            "2025/04/25 17:30:32 INFO mlflow.spark: File '/tmp/tmpuoiqti_7/model/sparkml' is already on DFS, copy is not necessary.\n",
            "                                                                                \r"
          ]
        },
        {
          "name": "stdout",
          "output_type": "stream",
          "text": [
            "+------+-----------------------------------------------------------+\n",
            "|UserID|recommended_movie_ids                                      |\n",
            "+------+-----------------------------------------------------------+\n",
            "|1     |[1851, 3233, 527, 318, 953, 3172, 858, 1097, 919, 2493]    |\n",
            "|2     |[1851, 318, 527, 3233, 2028, 356, 2762, 3245, 953, 1741]   |\n",
            "|3     |[811, 1851, 3233, 318, 2329, 110, 598, 1741, 3245, 1659]   |\n",
            "|4     |[1851, 858, 2760, 2503, 912, 1221, 2309, 1207, 923, 2019]  |\n",
            "|5     |[557, 1423, 2309, 2962, 2342, 1149, 3645, 2512, 668, 854]  |\n",
            "|6     |[2562, 3913, 1035, 3314, 687, 1741, 2101, 1871, 985, 3916] |\n",
            "|7     |[811, 1851, 1198, 2562, 598, 3172, 260, 3314, 110, 2028]   |\n",
            "|8     |[1851, 2309, 3172, 557, 598, 787, 50, 318, 858, 2905]      |\n",
            "|9     |[1851, 2309, 318, 50, 858, 527, 3172, 260, 2905, 1198]     |\n",
            "|10    |[1851, 2562, 1741, 3092, 439, 3233, 3625, 1780, 2762, 2776]|\n",
            "|11    |[2309, 1851, 2999, 2858, 771, 50, 887, 296, 2295, 2959]    |\n",
            "|12    |[557, 2309, 3172, 1420, 858, 1851, 296, 1221, 966, 1213]   |\n",
            "|13    |[1851, 527, 3245, 1198, 318, 260, 3172, 811, 2762, 2562]   |\n",
            "|14    |[3245, 811, 1851, 2843, 1546, 1471, 2905, 260, 3236, 1204] |\n",
            "|15    |[1851, 3314, 811, 318, 3233, 110, 1659, 356, 2762, 2028]   |\n",
            "|16    |[3092, 1851, 687, 2493, 2156, 3913, 2197, 116, 2933, 138]  |\n",
            "|17    |[1851, 557, 2905, 3172, 787, 3245, 1148, 745, 260, 1198]   |\n",
            "|18    |[1851, 1423, 3245, 2309, 2843, 3092, 260, 745, 318, 759]   |\n",
            "|19    |[1851, 260, 1198, 2342, 318, 2905, 3092, 2571, 1196, 50]   |\n",
            "|20    |[1851, 811, 50, 2905, 318, 2309, 3172, 260, 2571, 1198]    |\n",
            "+------+-----------------------------------------------------------+\n",
            "only showing top 20 rows\n",
            "\n"
          ]
        }
      ],
      "source": [
        "from pyspark.sql import Row\n",
        "from pyspark.sql.functions import col, explode, collect_list\n",
        "from pyspark.ml.recommendation import ALS\n",
        "from pyspark.ml.evaluation import RegressionEvaluator\n",
        "import mlflow\n",
        "import mlflow.spark\n",
        "\n",
        "# 1. Dividir los datos en conjuntos de entrenamiento y validación\n",
        "(training_data, validation_data) = ratings_df.randomSplit([0.8, 0.2], seed=42)\n",
        "\n",
        "# 2. Definir el modelo ALS\n",
        "als = ALS(\n",
        "    userCol=\"user_id\",\n",
        "    itemCol=\"movie_id\",\n",
        "    ratingCol=\"rating\",\n",
        "    coldStartStrategy=\"drop\",\n",
        "    implicitPrefs=False  # Usar True para datos implícitos (ej: número de reproducciones)\n",
        ")\n",
        "\n",
        "# 3. Definir los parámetros que vamos a probar (para MLflow)\n",
        "param_grid = [\n",
        "    {\"rank\": 10, \"regParam\": 0.01},\n",
        "    {\"rank\": 10, \"regParam\": 0.1},\n",
        "    {\"rank\": 15, \"regParam\": 0.01},\n",
        "    {\"rank\": 15, \"regParam\": 0.1},\n",
        "]\n",
        "\n",
        "best_model = None\n",
        "best_rmse = float('inf')\n",
        "\n",
        "# 4. Entrenamiento del modelo y registro con MLflow\n",
        "with mlflow.start_run():\n",
        "    for params in param_grid:\n",
        "        with mlflow.start_run(nested=True):\n",
        "            print(f\"Entrenando modelo con parámetros: {params}\")\n",
        "            mlflow.log_params(params)\n",
        "\n",
        "            # Establecer los parámetros en el modelo\n",
        "            als.setParams(**params)\n",
        "\n",
        "            # Entrenar el modelo\n",
        "            model = als.fit(training_data)\n",
        "\n",
        "            # Hacer predicciones en el conjunto de validación\n",
        "            predictions = model.transform(validation_data)\n",
        "\n",
        "            # Evaluar el modelo\n",
        "            evaluator = RegressionEvaluator(metricName=\"rmse\", labelCol=\"rating\", predictionCol=\"prediction\")\n",
        "            rmse = evaluator.evaluate(predictions)\n",
        "            print(f\"RMSE para los parámetros {params}: {rmse}\")\n",
        "            mlflow.log_metric(\"rmse\", rmse)\n",
        "\n",
        "            if rmse < best_rmse:\n",
        "                best_rmse = rmse\n",
        "                best_model = model\n",
        "\n",
        "print(f\"\\nMejor RMSE encontrado: {best_rmse}\")\n",
        "mlflow.log_metric(\"best_rmse\", best_rmse)\n",
        "\n",
        "input_example = pd.DataFrame({\"userID\": [1], \"movieID\": [10]})\n",
        "mlflow.spark.log_model(best_model, \"best_als_model\", input_example=input_example)\n",
        "\n",
        "\n",
        "# 6. Generación de Recomendaciones (con PySpark)\n",
        "# Asegurarse de que tenemos el mejor modelo entrenado\n",
        "if best_model is None:\n",
        "    raise Exception(\"No se encontró ningún modelo entrenado.\")\n",
        "\n",
        "# Generar recomendaciones para todos los usuarios\n",
        "user_recs = best_model.recommendForAllUsers(10)  # Generar las 10 mejores recomendaciones por usuario\n",
        "\n",
        "# Explode las recomendaciones\n",
        "user_recs_exploded = user_recs.withColumn(\"recommendations\", explode(\"recommendations\")) \\\n",
        "    .select(\"User_id\", col(\"recommendations.movieID\").alias(\"movie_id_recommended\"), col(\"recommendations.rating\").alias(\"predicted_rating\"))\n",
        "\n",
        "# Para obtener una lista de movie_id recomendadas por usuario:\n",
        "user_recommendations = user_recs_exploded.groupBy(\"User_id\") \\\n",
        "    .agg(collect_list(\"movie_id_recommended\").alias(\"recommended_movie_ids\"))\n",
        "\n",
        "# Mostrar las recomendaciones de los usuarios\n",
        "user_recommendations.show(truncate=False)"
      ]
    },
    {
      "cell_type": "markdown",
      "source": [
        "## Detener Spark"
      ],
      "metadata": {
        "id": "YImSVyk1GeH5"
      },
      "id": "YImSVyk1GeH5"
    },
    {
      "cell_type": "code",
      "execution_count": null,
      "id": "9fb6ed73",
      "metadata": {
        "id": "9fb6ed73"
      },
      "outputs": [],
      "source": [
        "spark.stop()"
      ]
    }
  ],
  "metadata": {
    "kernelspec": {
      "display_name": ".venv_peliculas_py311",
      "language": "python",
      "name": "python3"
    },
    "language_info": {
      "codemirror_mode": {
        "name": "ipython",
        "version": 3
      },
      "file_extension": ".py",
      "mimetype": "text/x-python",
      "name": "python",
      "nbconvert_exporter": "python",
      "pygments_lexer": "ipython3",
      "version": "3.11.12"
    },
    "colab": {
      "provenance": [],
      "collapsed_sections": [
        "83FestDmD1P3"
      ]
    }
  },
  "nbformat": 4,
  "nbformat_minor": 5
}